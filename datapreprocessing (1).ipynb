{
 "cells": [
  {
   "cell_type": "code",
   "execution_count": 2,
   "id": "a1289821-b9b1-41eb-b5ed-ca27d106447f",
   "metadata": {},
   "outputs": [],
   "source": [
    "import numpy as np\n",
    "import pandas as pd\n",
    "import seaborn as sns\n",
    "import matplotlib.pyplot as plt\n",
    "from warnings import filterwarnings\n",
    "filterwarnings('ignore')\n"
   ]
  },
  {
   "cell_type": "code",
   "execution_count": 1,
   "id": "761f9323-85a0-4a78-86de-9f96c5c88039",
   "metadata": {},
   "outputs": [
    {
     "ename": "NameError",
     "evalue": "name 'pd' is not defined",
     "output_type": "error",
     "traceback": [
      "\u001b[1;31m---------------------------------------------------------------------------\u001b[0m",
      "\u001b[1;31mNameError\u001b[0m                                 Traceback (most recent call last)",
      "Cell \u001b[1;32mIn[1], line 1\u001b[0m\n\u001b[1;32m----> 1\u001b[0m df\u001b[38;5;241m=\u001b[39m\u001b[43mpd\u001b[49m\u001b[38;5;241m.\u001b[39mread_csv(\u001b[38;5;124m'\u001b[39m\u001b[38;5;124mgreen-tripdata-2025-03.csv\u001b[39m\u001b[38;5;124m'\u001b[39m)\n\u001b[0;32m      2\u001b[0m df\u001b[38;5;241m.\u001b[39mhead()\n",
      "\u001b[1;31mNameError\u001b[0m: name 'pd' is not defined"
     ]
    }
   ],
   "source": [
    "df=pd.read_csv('green-tripdata-2025-03.csv')\n",
    "df.head()"
   ]
  },
  {
   "cell_type": "code",
   "execution_count": null,
   "id": "2197b115-7fbb-4353-8b43-01b2662cd1bc",
   "metadata": {},
   "outputs": [
    {
     "name": "stdout",
     "output_type": "stream",
     "text": [
      "Initial shape: (51539, 21)\n",
      "\n",
      "Data types:\n",
      " VendorID                   int64\n",
      "lpep_pickup_datetime      object\n",
      "lpep_dropoff_datetime     object\n",
      "store_and_fwd_flag        object\n",
      "RatecodeID                object\n",
      "PULocationID               int64\n",
      "DOLocationID               int64\n",
      "passenger_count           object\n",
      "trip_distance            float64\n",
      "fare_amount              float64\n",
      "extra                    float64\n",
      "mta_tax                  float64\n",
      "tip_amount               float64\n",
      "tolls_amount             float64\n",
      "ehail_fee                 object\n",
      "improvement_surcharge    float64\n",
      "total_amount             float64\n",
      "payment_type              object\n",
      "trip_type                 object\n",
      "congestion_surcharge      object\n",
      "cbd_congestion_fee       float64\n",
      "dtype: object\n",
      "\n",
      "Missing values:\n",
      " VendorID                 0\n",
      "lpep_pickup_datetime     0\n",
      "lpep_dropoff_datetime    0\n",
      "store_and_fwd_flag       0\n",
      "RatecodeID               0\n",
      "PULocationID             0\n",
      "DOLocationID             0\n",
      "passenger_count          0\n",
      "trip_distance            0\n",
      "fare_amount              0\n",
      "extra                    0\n",
      "mta_tax                  0\n",
      "tip_amount               0\n",
      "tolls_amount             0\n",
      "ehail_fee                0\n",
      "improvement_surcharge    0\n",
      "total_amount             0\n",
      "payment_type             0\n",
      "trip_type                0\n",
      "congestion_surcharge     0\n",
      "cbd_congestion_fee       0\n",
      "dtype: int64\n"
     ]
    }
   ],
   "source": [
    "print(\"Initial shape:\",df.shape)\n",
    "print(\"\\nData types:\\n\",df.dtypes)\n",
    "print(\"\\nMissing values:\\n\",df.isnull().sum())"
   ]
  },
  {
   "cell_type": "code",
   "execution_count": null,
   "id": "21609f8e-62ab-47b8-9bcd-fbcd00f85841",
   "metadata": {},
   "outputs": [],
   "source": [
    "df=df.dropna(subset=['lpep_pickup_datetime','lpep_dropoff_datetime','PULocationID','DOLocationID'])"
   ]
  },
  {
   "cell_type": "code",
   "execution_count": null,
   "id": "17605dbe-1dc6-4193-931f-b0df5f97538a",
   "metadata": {},
   "outputs": [],
   "source": [
    "df['ehail_fee']=df['ehail_fee'].fillna(0)\n",
    "df['improvement_surcharge']=df['improvement_surcharge'].fillna(df['improvement_surcharge'].median())\n",
    "df['congestion_surcharge']=df['congestion_surcharge'].fillna(0)\n",
    "df['cbd_congestion_fee']=df['cbd_congestion_fee'].fillna(0)\n"
   ]
  },
  {
   "cell_type": "code",
   "execution_count": null,
   "id": "c3621934-97ca-4204-a655-8534b2252e3e",
   "metadata": {},
   "outputs": [],
   "source": [
    "df['lpep_pickup_datetime']=pd.to_datetime(df['lpep_pickup_datetime'])\n",
    "df['lpep_dropoff_datetime']=pd.to_datetime(df['lpep_dropoff_datetime'])"
   ]
  },
  {
   "cell_type": "code",
   "execution_count": null,
   "id": "208f5c8c-f4a5-4e0a-bc27-4a74bc6fcfd6",
   "metadata": {},
   "outputs": [],
   "source": [
    "df['trip_duration']=(df['lpep_dropoff_datetime']-df['lpep_pickup_datetime']).dt.total_seconds()"
   ]
  },
  {
   "cell_type": "code",
   "execution_count": null,
   "id": "6df7a77a-f591-408b-936a-2a6cbbaae436",
   "metadata": {},
   "outputs": [],
   "source": [
    "df=df[df['trip_duration']>0]"
   ]
  },
  {
   "cell_type": "code",
   "execution_count": null,
   "id": "07ae4437-b76d-4a59-a4c9-782ee18d3479",
   "metadata": {},
   "outputs": [],
   "source": [
    "df=df[df['fare_amount']>=0]"
   ]
  },
  {
   "cell_type": "code",
   "execution_count": null,
   "id": "b69725d7-aaa3-4769-8ae0-2a35419e9786",
   "metadata": {},
   "outputs": [],
   "source": [
    "df=df[df['trip_distance']>=0]"
   ]
  },
  {
   "cell_type": "code",
   "execution_count": null,
   "id": "7155fc46-915c-4c5a-98a6-0154b74fce13",
   "metadata": {},
   "outputs": [],
   "source": [
    "def remove_outliers(df,column):\n",
    "    Q1=df[column].quantile(0.25)\n",
    "    Q3=df[column].quantile(0.75)\n",
    "    IQR=Q3-Q1\n",
    "    lower_bound=Q1-1.5*IQR\n",
    "    upper_bound=Q3+1.5*IQR\n",
    "    return df[(df[column]>=lower_bound)&(df[column]<=upper_bound)]"
   ]
  },
  {
   "cell_type": "code",
   "execution_count": null,
   "id": "87c4d9cc-b889-47dd-9f03-16d0f157d5e5",
   "metadata": {},
   "outputs": [],
   "source": [
    "df=remove_outliers(df,'trip_duration')\n",
    "df=remove_outliers(df,'fare_amount')\n",
    "df=remove_outliers(df,'trip_distance')\n",
    "df=remove_outliers(df,'total_amount')"
   ]
  },
  {
   "cell_type": "code",
   "execution_count": null,
   "id": "b473a26a-8725-4cc6-a81f-bd7bedb47879",
   "metadata": {},
   "outputs": [],
   "source": [
    "df['speed_mph']=(df['trip_distance']/(df['trip_duration']/60))\n",
    "df=df[df['speed_mph']<=100]"
   ]
  },
  {
   "cell_type": "code",
   "execution_count": null,
   "id": "82262be4-7005-4d9a-b395-37431a9e3cdf",
   "metadata": {},
   "outputs": [],
   "source": [
    "same_loc_zero_dist = (df['PULocationID'] == df['DOLocationID']) & (df['trip_distance'] == 0)\n",
    "df = df[~(same_loc_zero_dist & (df['total_amount'] > 10))]"
   ]
  },
  {
   "cell_type": "code",
   "execution_count": 37,
   "id": "72bce1a0-2e82-4c4a-abfa-65a4197acd34",
   "metadata": {},
   "outputs": [],
   "source": [
    "df['pickup_hour'] = df['lpep_pickup_datetime'].dt.hour\n",
    "df['pickup_day'] = df['lpep_pickup_datetime'].dt.day\n",
    "df['pickup_dayofweek'] = df['lpep_pickup_datetime'].dt.dayofweek"
   ]
  },
  {
   "cell_type": "code",
   "execution_count": 39,
   "id": "1e8f5249-aadb-4aa5-a75e-0405f17d3956",
   "metadata": {},
   "outputs": [],
   "source": [
    "df['is_weekend'] = df['pickup_dayofweek'].isin([5, 6]).astype(int)\n",
    "df['is_rush_hour'] = ((df['pickup_hour'] >= 7) & (df['pickup_hour'] <= 10) | \n",
    "                     ((df['pickup_hour'] >= 16) & (df['pickup_hour'] <= 19))).astype(int)"
   ]
  },
  {
   "cell_type": "code",
   "execution_count": 41,
   "id": "e9af8291-ffdc-4494-935a-b64f7d9b352e",
   "metadata": {},
   "outputs": [],
   "source": [
    "columns_to_drop = ['ehail_fee', 'lpep_pickup_datetime', 'lpep_dropoff_datetime', 'speed_mph']\n",
    "df = df.drop(columns=columns_to_drop, errors='ignore')"
   ]
  },
  {
   "cell_type": "code",
   "execution_count": 43,
   "id": "3b225ad3-389a-4cf8-bda7-babdac7632e4",
   "metadata": {},
   "outputs": [],
   "source": [
    "df = df.reset_index(drop=True)"
   ]
  },
  {
   "cell_type": "code",
   "execution_count": 45,
   "id": "35f7086e-3d3e-44bd-867d-78b5f146c7d3",
   "metadata": {},
   "outputs": [],
   "source": [
    "df.to_csv('cleaned_green_tripdata_2025_03.csv', index=False)"
   ]
  },
  {
   "cell_type": "code",
   "execution_count": 47,
   "id": "10920277-0f05-494c-8e42-f74c795df36a",
   "metadata": {},
   "outputs": [
    {
     "name": "stdout",
     "output_type": "stream",
     "text": [
      "\n",
      "Final shape after preprocessing: (41740, 24)\n",
      "\n",
      "Sample of cleaned data:\n",
      "   VendorID store_and_fwd_flag RatecodeID  PULocationID  DOLocationID  \\\n",
      "0         2                  N          1            75           239   \n",
      "1         2                  N          1            41            42   \n",
      "2         2                  N          1            66            33   \n",
      "3         2                  N          1           134           122   \n",
      "4         2                  N          1           260           260   \n",
      "\n",
      "  passenger_count  trip_distance  fare_amount  extra  mta_tax  ...  \\\n",
      "0               1           2.20         18.4    1.0      0.5  ...   \n",
      "1               1           1.06          8.6    1.0      0.5  ...   \n",
      "2               1           0.82          5.8    1.0      0.5  ...   \n",
      "3               1           4.94         21.9    1.0      0.5  ...   \n",
      "4               1           0.81          8.6    1.0      0.5  ...   \n",
      "\n",
      "   payment_type  trip_type  congestion_surcharge  cbd_congestion_fee  \\\n",
      "0             1          1                  2.75                 0.0   \n",
      "1             1          1                   0.0                 0.0   \n",
      "2             2          1                   0.0                 0.0   \n",
      "3             2          1                   0.0                 0.0   \n",
      "4             1          1                   0.0                 0.0   \n",
      "\n",
      "  trip_duration pickup_hour pickup_day  pickup_dayofweek  is_weekend  \\\n",
      "0        1038.0           0          1                 5           1   \n",
      "1         519.0           0          1                 5           1   \n",
      "2         210.0           0          1                 5           1   \n",
      "3         789.0           0          1                 5           1   \n",
      "4         418.0           0          1                 5           1   \n",
      "\n",
      "   is_rush_hour  \n",
      "0             0  \n",
      "1             0  \n",
      "2             0  \n",
      "3             0  \n",
      "4             0  \n",
      "\n",
      "[5 rows x 24 columns]\n"
     ]
    }
   ],
   "source": [
    "print(\"\\nFinal shape after preprocessing:\", df.shape)\n",
    "print(\"\\nSample of cleaned data:\")\n",
    "print(df.head())"
   ]
  },
  {
   "cell_type": "code",
   "execution_count": 49,
   "id": "efeb3a23-941d-48d1-8a18-ca973ef3c926",
   "metadata": {},
   "outputs": [
    {
     "data": {
      "text/html": [
       "<div>\n",
       "<style scoped>\n",
       "    .dataframe tbody tr th:only-of-type {\n",
       "        vertical-align: middle;\n",
       "    }\n",
       "\n",
       "    .dataframe tbody tr th {\n",
       "        vertical-align: top;\n",
       "    }\n",
       "\n",
       "    .dataframe thead th {\n",
       "        text-align: right;\n",
       "    }\n",
       "</style>\n",
       "<table border=\"1\" class=\"dataframe\">\n",
       "  <thead>\n",
       "    <tr style=\"text-align: right;\">\n",
       "      <th></th>\n",
       "      <th>VendorID</th>\n",
       "      <th>store_and_fwd_flag</th>\n",
       "      <th>RatecodeID</th>\n",
       "      <th>PULocationID</th>\n",
       "      <th>DOLocationID</th>\n",
       "      <th>passenger_count</th>\n",
       "      <th>trip_distance</th>\n",
       "      <th>fare_amount</th>\n",
       "      <th>extra</th>\n",
       "      <th>mta_tax</th>\n",
       "      <th>...</th>\n",
       "      <th>payment_type</th>\n",
       "      <th>trip_type</th>\n",
       "      <th>congestion_surcharge</th>\n",
       "      <th>cbd_congestion_fee</th>\n",
       "      <th>trip_duration</th>\n",
       "      <th>pickup_hour</th>\n",
       "      <th>pickup_day</th>\n",
       "      <th>pickup_dayofweek</th>\n",
       "      <th>is_weekend</th>\n",
       "      <th>is_rush_hour</th>\n",
       "    </tr>\n",
       "  </thead>\n",
       "  <tbody>\n",
       "    <tr>\n",
       "      <th>41735</th>\n",
       "      <td>2</td>\n",
       "      <td>\\N</td>\n",
       "      <td>\\N</td>\n",
       "      <td>166</td>\n",
       "      <td>239</td>\n",
       "      <td>\\N</td>\n",
       "      <td>1.92</td>\n",
       "      <td>14.54</td>\n",
       "      <td>0.0</td>\n",
       "      <td>0.5</td>\n",
       "      <td>...</td>\n",
       "      <td>\\N</td>\n",
       "      <td>\\N</td>\n",
       "      <td>\\N</td>\n",
       "      <td>0.00</td>\n",
       "      <td>420.0</td>\n",
       "      <td>22</td>\n",
       "      <td>31</td>\n",
       "      <td>0</td>\n",
       "      <td>0</td>\n",
       "      <td>0</td>\n",
       "    </tr>\n",
       "    <tr>\n",
       "      <th>41736</th>\n",
       "      <td>2</td>\n",
       "      <td>\\N</td>\n",
       "      <td>\\N</td>\n",
       "      <td>25</td>\n",
       "      <td>106</td>\n",
       "      <td>\\N</td>\n",
       "      <td>1.57</td>\n",
       "      <td>13.02</td>\n",
       "      <td>0.0</td>\n",
       "      <td>0.5</td>\n",
       "      <td>...</td>\n",
       "      <td>\\N</td>\n",
       "      <td>\\N</td>\n",
       "      <td>\\N</td>\n",
       "      <td>0.00</td>\n",
       "      <td>420.0</td>\n",
       "      <td>22</td>\n",
       "      <td>31</td>\n",
       "      <td>0</td>\n",
       "      <td>0</td>\n",
       "      <td>0</td>\n",
       "    </tr>\n",
       "    <tr>\n",
       "      <th>41737</th>\n",
       "      <td>2</td>\n",
       "      <td>\\N</td>\n",
       "      <td>\\N</td>\n",
       "      <td>74</td>\n",
       "      <td>262</td>\n",
       "      <td>\\N</td>\n",
       "      <td>2.31</td>\n",
       "      <td>15.39</td>\n",
       "      <td>0.0</td>\n",
       "      <td>0.5</td>\n",
       "      <td>...</td>\n",
       "      <td>\\N</td>\n",
       "      <td>\\N</td>\n",
       "      <td>\\N</td>\n",
       "      <td>0.00</td>\n",
       "      <td>600.0</td>\n",
       "      <td>22</td>\n",
       "      <td>31</td>\n",
       "      <td>0</td>\n",
       "      <td>0</td>\n",
       "      <td>0</td>\n",
       "    </tr>\n",
       "    <tr>\n",
       "      <th>41738</th>\n",
       "      <td>2</td>\n",
       "      <td>\\N</td>\n",
       "      <td>\\N</td>\n",
       "      <td>65</td>\n",
       "      <td>79</td>\n",
       "      <td>\\N</td>\n",
       "      <td>3.57</td>\n",
       "      <td>18.53</td>\n",
       "      <td>0.0</td>\n",
       "      <td>0.5</td>\n",
       "      <td>...</td>\n",
       "      <td>\\N</td>\n",
       "      <td>\\N</td>\n",
       "      <td>\\N</td>\n",
       "      <td>0.75</td>\n",
       "      <td>960.0</td>\n",
       "      <td>22</td>\n",
       "      <td>31</td>\n",
       "      <td>0</td>\n",
       "      <td>0</td>\n",
       "      <td>0</td>\n",
       "    </tr>\n",
       "    <tr>\n",
       "      <th>41739</th>\n",
       "      <td>2</td>\n",
       "      <td>\\N</td>\n",
       "      <td>\\N</td>\n",
       "      <td>244</td>\n",
       "      <td>74</td>\n",
       "      <td>\\N</td>\n",
       "      <td>4.64</td>\n",
       "      <td>23.19</td>\n",
       "      <td>0.0</td>\n",
       "      <td>0.5</td>\n",
       "      <td>...</td>\n",
       "      <td>\\N</td>\n",
       "      <td>\\N</td>\n",
       "      <td>\\N</td>\n",
       "      <td>0.00</td>\n",
       "      <td>780.0</td>\n",
       "      <td>23</td>\n",
       "      <td>31</td>\n",
       "      <td>0</td>\n",
       "      <td>0</td>\n",
       "      <td>0</td>\n",
       "    </tr>\n",
       "  </tbody>\n",
       "</table>\n",
       "<p>5 rows × 24 columns</p>\n",
       "</div>"
      ],
      "text/plain": [
       "       VendorID store_and_fwd_flag RatecodeID  PULocationID  DOLocationID  \\\n",
       "41735         2                 \\N         \\N           166           239   \n",
       "41736         2                 \\N         \\N            25           106   \n",
       "41737         2                 \\N         \\N            74           262   \n",
       "41738         2                 \\N         \\N            65            79   \n",
       "41739         2                 \\N         \\N           244            74   \n",
       "\n",
       "      passenger_count  trip_distance  fare_amount  extra  mta_tax  ...  \\\n",
       "41735              \\N           1.92        14.54    0.0      0.5  ...   \n",
       "41736              \\N           1.57        13.02    0.0      0.5  ...   \n",
       "41737              \\N           2.31        15.39    0.0      0.5  ...   \n",
       "41738              \\N           3.57        18.53    0.0      0.5  ...   \n",
       "41739              \\N           4.64        23.19    0.0      0.5  ...   \n",
       "\n",
       "       payment_type  trip_type  congestion_surcharge  cbd_congestion_fee  \\\n",
       "41735            \\N         \\N                    \\N                0.00   \n",
       "41736            \\N         \\N                    \\N                0.00   \n",
       "41737            \\N         \\N                    \\N                0.00   \n",
       "41738            \\N         \\N                    \\N                0.75   \n",
       "41739            \\N         \\N                    \\N                0.00   \n",
       "\n",
       "      trip_duration pickup_hour pickup_day  pickup_dayofweek  is_weekend  \\\n",
       "41735         420.0          22         31                 0           0   \n",
       "41736         420.0          22         31                 0           0   \n",
       "41737         600.0          22         31                 0           0   \n",
       "41738         960.0          22         31                 0           0   \n",
       "41739         780.0          23         31                 0           0   \n",
       "\n",
       "       is_rush_hour  \n",
       "41735             0  \n",
       "41736             0  \n",
       "41737             0  \n",
       "41738             0  \n",
       "41739             0  \n",
       "\n",
       "[5 rows x 24 columns]"
      ]
     },
     "execution_count": 49,
     "metadata": {},
     "output_type": "execute_result"
    }
   ],
   "source": [
    "df.tail()"
   ]
  },
  {
   "cell_type": "code",
   "execution_count": null,
   "id": "3b580f6e-2b9b-4776-a95e-f4a265f106bd",
   "metadata": {},
   "outputs": [],
   "source": []
  }
 ],
 "metadata": {
  "kernelspec": {
   "display_name": "Python 3",
   "language": "python",
   "name": "python3"
  },
  "language_info": {
   "codemirror_mode": {
    "name": "ipython",
    "version": 3
   },
   "file_extension": ".py",
   "mimetype": "text/x-python",
   "name": "python",
   "nbconvert_exporter": "python",
   "pygments_lexer": "ipython3",
   "version": "3.12.6"
  }
 },
 "nbformat": 4,
 "nbformat_minor": 5
}
